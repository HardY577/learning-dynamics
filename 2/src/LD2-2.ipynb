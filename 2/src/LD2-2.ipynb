{
 "cells": [
  {
   "cell_type": "markdown",
   "metadata": {},
   "source": [
    "# Assignment 2: Evolutionary dynamics in a spatial context"
   ]
  },
  {
   "cell_type": "markdown",
   "metadata": {},
   "source": [
    "## Snowdrift"
   ]
  },
  {
   "cell_type": "code",
   "execution_count": null,
   "metadata": {
    "collapsed": false
   },
   "outputs": [],
   "source": [
    "import random\n",
    "import plotly.graph_objs as go\n",
    "import plotly\n",
    "import plotly.graph_objs as go\n",
    "plotly.offline.init_notebook_mode() \n",
    "import copy\n",
    "import numpy as np"
   ]
  },
  {
   "cell_type": "code",
   "execution_count": null,
   "metadata": {
    "collapsed": true
   },
   "outputs": [],
   "source": [
    "HEIGHT = 50\n",
    "WIDTH = 50"
   ]
  },
  {
   "cell_type": "code",
   "execution_count": null,
   "metadata": {
    "collapsed": true
   },
   "outputs": [],
   "source": [
    "T=10\n",
    "R=7\n",
    "P=0\n",
    "S=3"
   ]
  },
  {
   "cell_type": "markdown",
   "metadata": {},
   "source": [
    "### Matrix creation"
   ]
  },
  {
   "cell_type": "code",
   "execution_count": null,
   "metadata": {
    "collapsed": true
   },
   "outputs": [],
   "source": [
    "def printm(matrix):\n",
    "    for y in range(len(matrix)):\n",
    "        for x in range(len(matrix[0])):\n",
    "            print(matrix[x][y], end=\" \")\n",
    "        print(\"\")"
   ]
  },
  {
   "cell_type": "code",
   "execution_count": null,
   "metadata": {
    "collapsed": true
   },
   "outputs": [],
   "source": [
    "def create_random_matrix():\n",
    "    result = []\n",
    "    for i in range(WIDTH):\n",
    "        row = []\n",
    "        for j in range(HEIGHT):\n",
    "            if random.randrange(2): # 0 ou 1\n",
    "                row.append(\"D\")\n",
    "            else:\n",
    "                row.append(\"C\")\n",
    "        result.append(row)\n",
    "    return result"
   ]
  },
  {
   "cell_type": "code",
   "execution_count": null,
   "metadata": {
    "collapsed": true
   },
   "outputs": [],
   "source": [
    "def create_payoff_matrix():\n",
    "    return [[0 for j in range(HEIGHT)] for i in range(WIDTH)]"
   ]
  },
  {
   "cell_type": "code",
   "execution_count": null,
   "metadata": {
    "collapsed": true
   },
   "outputs": [],
   "source": [
    "def count_c(matrix):\n",
    "    n = 0\n",
    "    for x in range(len(matrix)):\n",
    "        for y in range(len(matrix[0])):\n",
    "            if matrix[x][y] == \"C\":\n",
    "                n += 1\n",
    "    return n"
   ]
  },
  {
   "cell_type": "markdown",
   "metadata": {},
   "source": [
    "### Neighbors"
   ]
  },
  {
   "cell_type": "code",
   "execution_count": null,
   "metadata": {
    "collapsed": true
   },
   "outputs": [],
   "source": [
    "def get_von_neuman_neighbors(x, y):\n",
    "    neighbors = []\n",
    "    neighbors.append([x - 1, y])\n",
    "    neighbors.append([x, y - 1])\n",
    "    neighbors.append([(x + 1)%WIDTH, y])\n",
    "    neighbors.append([x, (y + 1)%HEIGHT])\n",
    "    return neighbors\n"
   ]
  },
  {
   "cell_type": "code",
   "execution_count": null,
   "metadata": {
    "collapsed": true
   },
   "outputs": [],
   "source": [
    "def get_moore_neighbors(x, y): \n",
    "    neighbors = []\n",
    "    neighbors.append([x - 1, y])\n",
    "    neighbors.append([x, y - 1])\n",
    "    neighbors.append([(x + 1)%WIDTH, y])\n",
    "    neighbors.append([x, (y + 1)%HEIGHT])\n",
    "    neighbors.append([x - 1, y-1])\n",
    "    neighbors.append([(x + 1)%WIDTH, y-1])\n",
    "    neighbors.append([x - 1, (y + 1)%HEIGHT])\n",
    "    neighbors.append([(x + 1)%WIDTH, (y + 1)%HEIGHT])\n",
    "    return neighbors"
   ]
  },
  {
   "cell_type": "markdown",
   "metadata": {},
   "source": [
    "### Payoff"
   ]
  },
  {
   "cell_type": "code",
   "execution_count": null,
   "metadata": {
    "collapsed": true
   },
   "outputs": [],
   "source": [
    "def payoff_p1_vs_p2(choice1, choice2):\n",
    "    \"\"\"Payoff for player 1 for a single game\"\"\"\n",
    "    if (choice1 == \"C\"):\n",
    "        if (choice2 == \"C\"):\n",
    "            return R\n",
    "        else:\n",
    "            return S\n",
    "    else:\n",
    "        if (choice2 == \"C\"):\n",
    "            return T\n",
    "        else:\n",
    "            return P"
   ]
  },
  {
   "cell_type": "code",
   "execution_count": null,
   "metadata": {
    "collapsed": true
   },
   "outputs": [],
   "source": [
    "def payoff_for_p(matrix, p , nf = get_moore_neighbors):\n",
    "    \"\"\"Payoff of a  case in the matrix\"\"\"\n",
    "    neighbors = nf(p[0], p[1])\n",
    "    payoff = 0\n",
    "    for n in neighbors:\n",
    "        payoff += payoff_p1_vs_p2(matrix[p[0]][p[1]], matrix[n[0]][n[1]])\n",
    "    return payoff"
   ]
  },
  {
   "cell_type": "code",
   "execution_count": null,
   "metadata": {
    "collapsed": true
   },
   "outputs": [],
   "source": [
    "def payoff_for_all(matrix):\n",
    "    payoffm = create_payoff_matrix()\n",
    "    for i in range(len(matrix)):\n",
    "        for j in range(len(matrix[0])):\n",
    "            p = (i,j)\n",
    "            payoffm[i][j] = payoff_for_p(matrix, p)\n",
    "    return payoffm"
   ]
  },
  {
   "cell_type": "markdown",
   "metadata": {},
   "source": [
    "### Imitation"
   ]
  },
  {
   "cell_type": "code",
   "execution_count": null,
   "metadata": {
    "collapsed": true
   },
   "outputs": [],
   "source": [
    "def new_strategy_for_p(matrix, p , payoffmat, nf = get_moore_neighbors):\n",
    "    neighbor = random.choice(nf(p[0], p[1]))\n",
    "    payoff_p = payoffmat[p[0]][p[1]]\n",
    "    strategy_p = matrix[p[0]][p[1]]\n",
    "    payoff_n = payoffmat[neighbor[0]][neighbor[1]]\n",
    "    strategy_n = matrix[neighbor[0]][neighbor[1]]\n",
    "    p = ( 1 + (payoff_n-payoff_p) / (4*(max([P,R,T,S])-min([P,R,T,S]))) )/ 2\n",
    "    if p <= random.uniform(0,1):\n",
    "        return strategy_n\n",
    "    return strategy_p"
   ]
  },
  {
   "cell_type": "code",
   "execution_count": null,
   "metadata": {
    "collapsed": true
   },
   "outputs": [],
   "source": [
    "def new_strategy_for_all(matrix, payoffm):\n",
    "    newmatrix = copy.deepcopy(matrix)\n",
    "    for i in range(len(matrix)):\n",
    "        for j in range(len(matrix[0])):\n",
    "            p = (i,j)\n",
    "            newmatrix[i][j] = new_strategy_for_p(matrix, p, payoffm)\n",
    "    return newmatrix"
   ]
  },
  {
   "cell_type": "markdown",
   "metadata": {},
   "source": [
    "### Simulation"
   ]
  },
  {
   "cell_type": "code",
   "execution_count": null,
   "metadata": {
    "collapsed": false
   },
   "outputs": [],
   "source": [
    "def simulation(n=100):\n",
    "    matrix = create_random_matrix()\n",
    "    res = []\n",
    "    res.append(count_c(matrix) / (HEIGHT * WIDTH))\n",
    "    for i in range(n):\n",
    "        payoffm = payoff_for_all(matrix)\n",
    "        matrix = new_strategy_for_all(matrix, payoffm)\n",
    "        res.append(count_c(matrix) / (HEIGHT * WIDTH))\n",
    "    return res"
   ]
  },
  {
   "cell_type": "code",
   "execution_count": null,
   "metadata": {
    "collapsed": true
   },
   "outputs": [],
   "source": [
    "def get_one_matrix(n=50):\n",
    "    matrix = create_random_matrix()\n",
    "    res = []\n",
    "    res.append(count_c(matrix) / (HEIGHT * WIDTH))\n",
    "    for i in range(n):\n",
    "        payoffm = payoff_for_all(matrix)\n",
    "        matrix = new_strategy_for_all(matrix, payoffm)\n",
    "        res.append(count_c(matrix) / (HEIGHT * WIDTH))\n",
    "    return matrix"
   ]
  },
  {
   "cell_type": "markdown",
   "metadata": {},
   "source": [
    "### Exo"
   ]
  },
  {
   "cell_type": "code",
   "execution_count": null,
   "metadata": {
    "collapsed": false
   },
   "outputs": [],
   "source": [
    "r = np.average([simulation() for i in range(100)], axis=0)"
   ]
  },
  {
   "cell_type": "code",
   "execution_count": null,
   "metadata": {
    "collapsed": false,
    "scrolled": false
   },
   "outputs": [],
   "source": [
    "# Create a trace\n",
    "trace = go.Scatter(\n",
    "    x = [i for i in range(len(r))],\n",
    "    y = r\n",
    ")\n",
    "\n",
    "data = [trace]\n",
    "\n",
    "# Plot and embed in ipython notebook!\n",
    "plotly.offline.iplot(data)"
   ]
  },
  {
   "cell_type": "code",
   "execution_count": null,
   "metadata": {
    "collapsed": false
   },
   "outputs": [],
   "source": [
    "matrix = get_one_matrix()"
   ]
  },
  {
   "cell_type": "code",
   "execution_count": null,
   "metadata": {
    "collapsed": false
   },
   "outputs": [],
   "source": [
    "tracehm = go.Heatmap(\n",
    "    z= [[0 if i==\"D\" else 1 for i in j] for j in matrix],\n",
    "    x=[i+1 for i in range(len(matrix))],\n",
    "    y=[i+1 for i in range(len(matrix[0]))]\n",
    ")\n",
    "data = [tracehm]\n",
    "plotly.offline.iplot(data)"
   ]
  },
  {
   "cell_type": "code",
   "execution_count": null,
   "metadata": {
    "collapsed": true
   },
   "outputs": [],
   "source": []
  }
 ],
 "metadata": {
  "kernelspec": {
   "display_name": "Python 3",
   "language": "python",
   "name": "python3"
  },
  "language_info": {
   "codemirror_mode": {
    "name": "ipython",
    "version": 3
   },
   "file_extension": ".py",
   "mimetype": "text/x-python",
   "name": "python",
   "nbconvert_exporter": "python",
   "pygments_lexer": "ipython3",
   "version": "3.5.0"
  }
 },
 "nbformat": 4,
 "nbformat_minor": 1
}
